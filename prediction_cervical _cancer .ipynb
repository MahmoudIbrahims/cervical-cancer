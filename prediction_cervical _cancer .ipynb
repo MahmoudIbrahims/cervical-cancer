{
 "cells": [
  {
   "cell_type": "code",
   "execution_count": 68,
   "id": "473f26e3",
   "metadata": {},
   "outputs": [],
   "source": [
    "filename =\"cervical-cancer_model.pkl\"\n",
    "FILE_PATH =\"cervical-cancer_part_1.csv\""
   ]
  },
  {
   "cell_type": "markdown",
   "id": "5d2477fa",
   "metadata": {},
   "source": [
    "### load libraries"
   ]
  },
  {
   "cell_type": "code",
   "execution_count": 66,
   "id": "25a64905",
   "metadata": {},
   "outputs": [],
   "source": [
    "import pickle\n",
    "from sklearn.preprocessing import StandardScaler\n",
    "import pandas as pd\n",
    "import warnings\n",
    "warnings.filterwarnings(\"ignore\")"
   ]
  },
  {
   "cell_type": "markdown",
   "id": "9d9ce5b0",
   "metadata": {},
   "source": [
    "### read data"
   ]
  },
  {
   "cell_type": "code",
   "execution_count": 53,
   "id": "66320711",
   "metadata": {},
   "outputs": [],
   "source": [
    "df =pd.read_csv(FILE_PATH)"
   ]
  },
  {
   "cell_type": "code",
   "execution_count": 54,
   "id": "0a22dce1",
   "metadata": {},
   "outputs": [
    {
     "data": {
      "text/plain": [
       "(835, 35)"
      ]
     },
     "execution_count": 54,
     "metadata": {},
     "output_type": "execute_result"
    }
   ],
   "source": [
    "df.shape"
   ]
  },
  {
   "cell_type": "markdown",
   "id": "ace6f3a0",
   "metadata": {},
   "source": [
    "### show All columns in the dataframe"
   ]
  },
  {
   "cell_type": "code",
   "execution_count": 55,
   "id": "8f4a7d1b",
   "metadata": {},
   "outputs": [
    {
     "data": {
      "text/plain": [
       "Index(['Unnamed: 0', 'Age', 'Number of sexual partners',\n",
       "       'First sexual intercourse', 'Num of pregnancies', 'Smokes',\n",
       "       'Smokes (years)', 'Smokes (packs/year)', 'Hormonal Contraceptives',\n",
       "       'Hormonal Contraceptives (years)', 'IUD', 'IUD (years)', 'STDs',\n",
       "       'STDs (number)', 'STDs:condylomatosis', 'STDs:cervical condylomatosis',\n",
       "       'STDs:vaginal condylomatosis', 'STDs:vulvo-perineal condylomatosis',\n",
       "       'STDs:syphilis', 'STDs:pelvic inflammatory disease',\n",
       "       'STDs:genital herpes', 'STDs:molluscum contagiosum', 'STDs:AIDS',\n",
       "       'STDs:HIV', 'STDs:Hepatitis B', 'STDs:HPV', 'STDs: Number of diagnosis',\n",
       "       'Dx:CIN', 'Dx:HPV', 'Dx', 'Hinselmann', 'Schiller', 'Citology',\n",
       "       'Biopsy', 'Dx:Cancer'],\n",
       "      dtype='object')"
      ]
     },
     "execution_count": 55,
     "metadata": {},
     "output_type": "execute_result"
    }
   ],
   "source": [
    "df.columns"
   ]
  },
  {
   "cell_type": "markdown",
   "id": "b09e8782",
   "metadata": {},
   "source": [
    "### this a sample for woman"
   ]
  },
  {
   "cell_type": "code",
   "execution_count": 58,
   "id": "6040b504",
   "metadata": {},
   "outputs": [],
   "source": [
    "data =[{\"Age\":50,\"Number of sexual partners\":4 ,\"First sexual intercourse\":13,\n",
    "                  \"Num of pregnancies\":1,\"Smokes\":1,\"Smokes (years)\":35.0,\"Smokes (packs/year)\":37,\n",
    "                  \"Hormonal Contraceptives\":1,\"Hormonal Contraceptives (years)\":3,\"IUD\":0.0,\n",
    "                  \"IUD (years)\":1,\"STDs\":18,\"STDs (number)\":29,\"STDs:condylomatosis\":18,\"STDs:cervical condylomatosis\":9,\"STDs:vaginal condylomatosis\":2,\n",
    "                   \"STDs:vulvo-perineal condylomatosis\":6,\"STDs:syphilis\":14,\n",
    "                  \"STDs:pelvic inflammatory disease\":0,\"STDs:genital herpes\":2,\"STDs:molluscum contagiosum\":5,\n",
    "                  \"STDs:AIDS\":1, \"STDs:HIV\":0, \"STDs:Hepatitis B\":3, \"STDs:HPV\":7, \"STDs: Number of diagnosis\":5, \"Dx:CIN\":1,\n",
    "                  \"Dx:HPV\":1, \"Dx\":1, \"Hinselmann\":0, \"Schiller\":1, \"Citology\":0, \"Biopsy\":0}]\n",
    "                 "
   ]
  },
  {
   "cell_type": "markdown",
   "id": "3e4d16e1",
   "metadata": {},
   "source": [
    "#### convert the sample to DataFrame"
   ]
  },
  {
   "cell_type": "code",
   "execution_count": 59,
   "id": "1ded7b88",
   "metadata": {},
   "outputs": [],
   "source": [
    "df =pd.DataFrame(data)"
   ]
  },
  {
   "cell_type": "code",
   "execution_count": 60,
   "id": "2ce71824",
   "metadata": {},
   "outputs": [
    {
     "data": {
      "text/html": [
       "<div>\n",
       "<style scoped>\n",
       "    .dataframe tbody tr th:only-of-type {\n",
       "        vertical-align: middle;\n",
       "    }\n",
       "\n",
       "    .dataframe tbody tr th {\n",
       "        vertical-align: top;\n",
       "    }\n",
       "\n",
       "    .dataframe thead th {\n",
       "        text-align: right;\n",
       "    }\n",
       "</style>\n",
       "<table border=\"1\" class=\"dataframe\">\n",
       "  <thead>\n",
       "    <tr style=\"text-align: right;\">\n",
       "      <th></th>\n",
       "      <th>Age</th>\n",
       "      <th>Number of sexual partners</th>\n",
       "      <th>First sexual intercourse</th>\n",
       "      <th>Num of pregnancies</th>\n",
       "      <th>Smokes</th>\n",
       "      <th>Smokes (years)</th>\n",
       "      <th>Smokes (packs/year)</th>\n",
       "      <th>Hormonal Contraceptives</th>\n",
       "      <th>Hormonal Contraceptives (years)</th>\n",
       "      <th>IUD</th>\n",
       "      <th>...</th>\n",
       "      <th>STDs:Hepatitis B</th>\n",
       "      <th>STDs:HPV</th>\n",
       "      <th>STDs: Number of diagnosis</th>\n",
       "      <th>Dx:CIN</th>\n",
       "      <th>Dx:HPV</th>\n",
       "      <th>Dx</th>\n",
       "      <th>Hinselmann</th>\n",
       "      <th>Schiller</th>\n",
       "      <th>Citology</th>\n",
       "      <th>Biopsy</th>\n",
       "    </tr>\n",
       "  </thead>\n",
       "  <tbody>\n",
       "    <tr>\n",
       "      <th>0</th>\n",
       "      <td>50</td>\n",
       "      <td>4</td>\n",
       "      <td>13</td>\n",
       "      <td>1</td>\n",
       "      <td>1</td>\n",
       "      <td>35.0</td>\n",
       "      <td>37</td>\n",
       "      <td>1</td>\n",
       "      <td>3</td>\n",
       "      <td>0.0</td>\n",
       "      <td>...</td>\n",
       "      <td>3</td>\n",
       "      <td>7</td>\n",
       "      <td>5</td>\n",
       "      <td>1</td>\n",
       "      <td>1</td>\n",
       "      <td>1</td>\n",
       "      <td>0</td>\n",
       "      <td>1</td>\n",
       "      <td>0</td>\n",
       "      <td>0</td>\n",
       "    </tr>\n",
       "  </tbody>\n",
       "</table>\n",
       "<p>1 rows × 33 columns</p>\n",
       "</div>"
      ],
      "text/plain": [
       "   Age  Number of sexual partners  First sexual intercourse  \\\n",
       "0   50                          4                        13   \n",
       "\n",
       "   Num of pregnancies  Smokes  Smokes (years)  Smokes (packs/year)  \\\n",
       "0                   1       1            35.0                   37   \n",
       "\n",
       "   Hormonal Contraceptives  Hormonal Contraceptives (years)  IUD  ...  \\\n",
       "0                        1                                3  0.0  ...   \n",
       "\n",
       "   STDs:Hepatitis B  STDs:HPV  STDs: Number of diagnosis  Dx:CIN  Dx:HPV  Dx  \\\n",
       "0                 3         7                          5       1       1   1   \n",
       "\n",
       "   Hinselmann  Schiller  Citology  Biopsy  \n",
       "0           0         1         0       0  \n",
       "\n",
       "[1 rows x 33 columns]"
      ]
     },
     "execution_count": 60,
     "metadata": {},
     "output_type": "execute_result"
    }
   ],
   "source": [
    "df.head()"
   ]
  },
  {
   "cell_type": "markdown",
   "id": "92db5eea",
   "metadata": {},
   "source": [
    "### this is the function used the predict positive cervical cancer or Negative cervical cancer"
   ]
  },
  {
   "cell_type": "code",
   "execution_count": 69,
   "id": "5fad634c",
   "metadata": {},
   "outputs": [],
   "source": [
    "def cervical_cancer(x):\n",
    "    sd =StandardScaler()\n",
    "    New_data  =sd.fit_transform(x)\n",
    "    # load the model from disk\n",
    "    loaded_model = pickle.load(open(filename, 'rb'))\n",
    "    prediction =loaded_model.predict(New_data)\n",
    "    #print(prediction)\n",
    "    if  prediction==1:\n",
    "        print(\"positive cervical cancer\")\n",
    "    else:\n",
    "        print(\"Negative cervical cancer\")\n",
    "        \n"
   ]
  },
  {
   "cell_type": "code",
   "execution_count": 70,
   "id": "90ca92f0",
   "metadata": {},
   "outputs": [
    {
     "name": "stdout",
     "output_type": "stream",
     "text": [
      "Negative cervical cancer\n"
     ]
    }
   ],
   "source": [
    "cervical_cancer(df)"
   ]
  }
 ],
 "metadata": {
  "kernelspec": {
   "display_name": "Python 3 (ipykernel)",
   "language": "python",
   "name": "python3"
  },
  "language_info": {
   "codemirror_mode": {
    "name": "ipython",
    "version": 3
   },
   "file_extension": ".py",
   "mimetype": "text/x-python",
   "name": "python",
   "nbconvert_exporter": "python",
   "pygments_lexer": "ipython3",
   "version": "3.9.12"
  }
 },
 "nbformat": 4,
 "nbformat_minor": 5
}
