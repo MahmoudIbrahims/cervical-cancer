{
 "cells": [
  {
   "cell_type": "code",
   "execution_count": 1,
   "id": "f854e819",
   "metadata": {},
   "outputs": [],
   "source": [
    "FILE_PATH =\"cervical-cancer_part_1.csv\"\n",
    "DF_EXPORT_MODEL =\"cervical-cancer_model.pkl\""
   ]
  },
  {
   "cell_type": "markdown",
   "id": "8b1cd6b4",
   "metadata": {},
   "source": [
    "### load libraries"
   ]
  },
  {
   "cell_type": "code",
   "execution_count": 18,
   "id": "a7c8eea5",
   "metadata": {},
   "outputs": [],
   "source": [
    "import pandas as pd\n",
    "import numpy as np\n",
    "import seaborn as sns\n",
    "import matplotlib.pyplot as plt\n",
    "from sklearn.linear_model import LogisticRegression\n",
    "from sklearn.model_selection import train_test_split\n",
    "from sklearn.metrics import accuracy_score, confusion_matrix,classification_report\n",
    "import pickle\n",
    "import warnings\n",
    "warnings.filterwarnings(\"ignore\")"
   ]
  },
  {
   "cell_type": "markdown",
   "id": "344e3286",
   "metadata": {},
   "source": [
    "### Read the data"
   ]
  },
  {
   "cell_type": "code",
   "execution_count": 3,
   "id": "9cc04954",
   "metadata": {},
   "outputs": [],
   "source": [
    "df =pd.read_csv(FILE_PATH)"
   ]
  },
  {
   "cell_type": "markdown",
   "id": "4a258f72",
   "metadata": {},
   "source": [
    "### show five rows"
   ]
  },
  {
   "cell_type": "code",
   "execution_count": 4,
   "id": "324c9757",
   "metadata": {},
   "outputs": [
    {
     "data": {
      "text/html": [
       "<div>\n",
       "<style scoped>\n",
       "    .dataframe tbody tr th:only-of-type {\n",
       "        vertical-align: middle;\n",
       "    }\n",
       "\n",
       "    .dataframe tbody tr th {\n",
       "        vertical-align: top;\n",
       "    }\n",
       "\n",
       "    .dataframe thead th {\n",
       "        text-align: right;\n",
       "    }\n",
       "</style>\n",
       "<table border=\"1\" class=\"dataframe\">\n",
       "  <thead>\n",
       "    <tr style=\"text-align: right;\">\n",
       "      <th></th>\n",
       "      <th>Unnamed: 0</th>\n",
       "      <th>Age</th>\n",
       "      <th>Number of sexual partners</th>\n",
       "      <th>First sexual intercourse</th>\n",
       "      <th>Num of pregnancies</th>\n",
       "      <th>Smokes</th>\n",
       "      <th>Smokes (years)</th>\n",
       "      <th>Smokes (packs/year)</th>\n",
       "      <th>Hormonal Contraceptives</th>\n",
       "      <th>Hormonal Contraceptives (years)</th>\n",
       "      <th>...</th>\n",
       "      <th>STDs:HPV</th>\n",
       "      <th>STDs: Number of diagnosis</th>\n",
       "      <th>Dx:CIN</th>\n",
       "      <th>Dx:HPV</th>\n",
       "      <th>Dx</th>\n",
       "      <th>Hinselmann</th>\n",
       "      <th>Schiller</th>\n",
       "      <th>Citology</th>\n",
       "      <th>Biopsy</th>\n",
       "      <th>Dx:Cancer</th>\n",
       "    </tr>\n",
       "  </thead>\n",
       "  <tbody>\n",
       "    <tr>\n",
       "      <th>0</th>\n",
       "      <td>0</td>\n",
       "      <td>-1.064408</td>\n",
       "      <td>0.864230</td>\n",
       "      <td>-7.176970e-01</td>\n",
       "      <td>-0.896455</td>\n",
       "      <td>-0.419483</td>\n",
       "      <td>-0.302993</td>\n",
       "      <td>-0.206583</td>\n",
       "      <td>-1.367694</td>\n",
       "      <td>-0.607375</td>\n",
       "      <td>...</td>\n",
       "      <td>-0.052235</td>\n",
       "      <td>-0.293385</td>\n",
       "      <td>-0.104383</td>\n",
       "      <td>-0.148431</td>\n",
       "      <td>-0.172026</td>\n",
       "      <td>-0.209165</td>\n",
       "      <td>-0.309517</td>\n",
       "      <td>-0.233008</td>\n",
       "      <td>-0.262949</td>\n",
       "      <td>0</td>\n",
       "    </tr>\n",
       "    <tr>\n",
       "      <th>1</th>\n",
       "      <td>1</td>\n",
       "      <td>-1.418269</td>\n",
       "      <td>-0.926119</td>\n",
       "      <td>-1.072899e+00</td>\n",
       "      <td>-0.896455</td>\n",
       "      <td>-0.419483</td>\n",
       "      <td>-0.302993</td>\n",
       "      <td>-0.206583</td>\n",
       "      <td>-1.367694</td>\n",
       "      <td>-0.607375</td>\n",
       "      <td>...</td>\n",
       "      <td>-0.052235</td>\n",
       "      <td>-0.293385</td>\n",
       "      <td>-0.104383</td>\n",
       "      <td>-0.148431</td>\n",
       "      <td>-0.172026</td>\n",
       "      <td>-0.209165</td>\n",
       "      <td>-0.309517</td>\n",
       "      <td>-0.233008</td>\n",
       "      <td>-0.262949</td>\n",
       "      <td>0</td>\n",
       "    </tr>\n",
       "    <tr>\n",
       "      <th>2</th>\n",
       "      <td>2</td>\n",
       "      <td>0.822850</td>\n",
       "      <td>-0.926119</td>\n",
       "      <td>-4.119088e-16</td>\n",
       "      <td>-0.896455</td>\n",
       "      <td>-0.419483</td>\n",
       "      <td>-0.302993</td>\n",
       "      <td>-0.206583</td>\n",
       "      <td>-1.367694</td>\n",
       "      <td>-0.607375</td>\n",
       "      <td>...</td>\n",
       "      <td>-0.052235</td>\n",
       "      <td>-0.293385</td>\n",
       "      <td>-0.104383</td>\n",
       "      <td>-0.148431</td>\n",
       "      <td>-0.172026</td>\n",
       "      <td>-0.209165</td>\n",
       "      <td>-0.309517</td>\n",
       "      <td>-0.233008</td>\n",
       "      <td>-0.262949</td>\n",
       "      <td>0</td>\n",
       "    </tr>\n",
       "    <tr>\n",
       "      <th>3</th>\n",
       "      <td>3</td>\n",
       "      <td>2.946016</td>\n",
       "      <td>1.461013</td>\n",
       "      <td>-3.624949e-01</td>\n",
       "      <td>1.165568</td>\n",
       "      <td>2.383889</td>\n",
       "      <td>8.638075</td>\n",
       "      <td>16.202125</td>\n",
       "      <td>0.731157</td>\n",
       "      <td>0.183850</td>\n",
       "      <td>...</td>\n",
       "      <td>-0.052235</td>\n",
       "      <td>-0.293385</td>\n",
       "      <td>-0.104383</td>\n",
       "      <td>6.737128</td>\n",
       "      <td>-0.172026</td>\n",
       "      <td>-0.209165</td>\n",
       "      <td>-0.309517</td>\n",
       "      <td>-0.233008</td>\n",
       "      <td>-0.262949</td>\n",
       "      <td>1</td>\n",
       "    </tr>\n",
       "    <tr>\n",
       "      <th>4</th>\n",
       "      <td>4</td>\n",
       "      <td>2.238294</td>\n",
       "      <td>0.267447</td>\n",
       "      <td>1.413516e+00</td>\n",
       "      <td>1.165568</td>\n",
       "      <td>-0.419483</td>\n",
       "      <td>-0.302993</td>\n",
       "      <td>-0.206583</td>\n",
       "      <td>0.731157</td>\n",
       "      <td>3.348752</td>\n",
       "      <td>...</td>\n",
       "      <td>-0.052235</td>\n",
       "      <td>-0.293385</td>\n",
       "      <td>-0.104383</td>\n",
       "      <td>-0.148431</td>\n",
       "      <td>-0.172026</td>\n",
       "      <td>-0.209165</td>\n",
       "      <td>-0.309517</td>\n",
       "      <td>-0.233008</td>\n",
       "      <td>-0.262949</td>\n",
       "      <td>0</td>\n",
       "    </tr>\n",
       "  </tbody>\n",
       "</table>\n",
       "<p>5 rows × 35 columns</p>\n",
       "</div>"
      ],
      "text/plain": [
       "   Unnamed: 0       Age  Number of sexual partners  First sexual intercourse  \\\n",
       "0           0 -1.064408                   0.864230             -7.176970e-01   \n",
       "1           1 -1.418269                  -0.926119             -1.072899e+00   \n",
       "2           2  0.822850                  -0.926119             -4.119088e-16   \n",
       "3           3  2.946016                   1.461013             -3.624949e-01   \n",
       "4           4  2.238294                   0.267447              1.413516e+00   \n",
       "\n",
       "   Num of pregnancies    Smokes  Smokes (years)  Smokes (packs/year)  \\\n",
       "0           -0.896455 -0.419483       -0.302993            -0.206583   \n",
       "1           -0.896455 -0.419483       -0.302993            -0.206583   \n",
       "2           -0.896455 -0.419483       -0.302993            -0.206583   \n",
       "3            1.165568  2.383889        8.638075            16.202125   \n",
       "4            1.165568 -0.419483       -0.302993            -0.206583   \n",
       "\n",
       "   Hormonal Contraceptives  Hormonal Contraceptives (years)  ...  STDs:HPV  \\\n",
       "0                -1.367694                        -0.607375  ... -0.052235   \n",
       "1                -1.367694                        -0.607375  ... -0.052235   \n",
       "2                -1.367694                        -0.607375  ... -0.052235   \n",
       "3                 0.731157                         0.183850  ... -0.052235   \n",
       "4                 0.731157                         3.348752  ... -0.052235   \n",
       "\n",
       "   STDs: Number of diagnosis    Dx:CIN    Dx:HPV        Dx  Hinselmann  \\\n",
       "0                  -0.293385 -0.104383 -0.148431 -0.172026   -0.209165   \n",
       "1                  -0.293385 -0.104383 -0.148431 -0.172026   -0.209165   \n",
       "2                  -0.293385 -0.104383 -0.148431 -0.172026   -0.209165   \n",
       "3                  -0.293385 -0.104383  6.737128 -0.172026   -0.209165   \n",
       "4                  -0.293385 -0.104383 -0.148431 -0.172026   -0.209165   \n",
       "\n",
       "   Schiller  Citology    Biopsy  Dx:Cancer  \n",
       "0 -0.309517 -0.233008 -0.262949          0  \n",
       "1 -0.309517 -0.233008 -0.262949          0  \n",
       "2 -0.309517 -0.233008 -0.262949          0  \n",
       "3 -0.309517 -0.233008 -0.262949          1  \n",
       "4 -0.309517 -0.233008 -0.262949          0  \n",
       "\n",
       "[5 rows x 35 columns]"
      ]
     },
     "execution_count": 4,
     "metadata": {},
     "output_type": "execute_result"
    }
   ],
   "source": [
    "df.head()"
   ]
  },
  {
   "cell_type": "markdown",
   "id": "0b0a3c1a",
   "metadata": {},
   "source": [
    "### Remove column name Unnamed"
   ]
  },
  {
   "cell_type": "code",
   "execution_count": 5,
   "id": "3c71102e",
   "metadata": {},
   "outputs": [],
   "source": [
    "df=df.drop(['Unnamed: 0'],axis =1)"
   ]
  },
  {
   "cell_type": "markdown",
   "id": "3777378b",
   "metadata": {},
   "source": [
    "### split data"
   ]
  },
  {
   "cell_type": "code",
   "execution_count": 6,
   "id": "727c4456",
   "metadata": {},
   "outputs": [],
   "source": [
    "X =df.drop([\"Dx:Cancer\"],axis =1)\n",
    "y =df[\"Dx:Cancer\"]"
   ]
  },
  {
   "cell_type": "code",
   "execution_count": 9,
   "id": "5984ffec",
   "metadata": {},
   "outputs": [],
   "source": [
    "X_train, X_test, y_train, y_test = train_test_split(X, y, test_size = 0.3 ,random_state=42)"
   ]
  },
  {
   "cell_type": "code",
   "execution_count": 10,
   "id": "75a0c533",
   "metadata": {},
   "outputs": [
    {
     "data": {
      "text/plain": [
       "(584, 33)"
      ]
     },
     "execution_count": 10,
     "metadata": {},
     "output_type": "execute_result"
    }
   ],
   "source": [
    "X_train.shape"
   ]
  },
  {
   "cell_type": "markdown",
   "id": "fd37a6f8",
   "metadata": {},
   "source": [
    "### Buliding model clasification first base model LogisticRegression"
   ]
  },
  {
   "cell_type": "code",
   "execution_count": 27,
   "id": "93f5f2f0",
   "metadata": {},
   "outputs": [
    {
     "data": {
      "text/plain": [
       "LogisticRegression()"
      ]
     },
     "execution_count": 27,
     "metadata": {},
     "output_type": "execute_result"
    }
   ],
   "source": [
    "model = LogisticRegression()\n",
    "model.fit(X_train,y_train)  # training data"
   ]
  },
  {
   "cell_type": "markdown",
   "id": "74fc40f2",
   "metadata": {},
   "source": [
    "### apply score on model"
   ]
  },
  {
   "cell_type": "code",
   "execution_count": 28,
   "id": "c705f8cc",
   "metadata": {},
   "outputs": [
    {
     "data": {
      "text/plain": [
       "0.9920318725099602"
      ]
     },
     "execution_count": 28,
     "metadata": {},
     "output_type": "execute_result"
    }
   ],
   "source": [
    "model.score(X_test, y_test)  "
   ]
  },
  {
   "cell_type": "markdown",
   "id": "bbd0a9d3",
   "metadata": {},
   "source": [
    "#### apply predict on test data"
   ]
  },
  {
   "cell_type": "code",
   "execution_count": 29,
   "id": "73a54a16",
   "metadata": {},
   "outputs": [],
   "source": [
    "prediction =model.predict(X_test)"
   ]
  },
  {
   "cell_type": "markdown",
   "id": "e7201d0c",
   "metadata": {},
   "source": [
    "### calculate Accuracy score"
   ]
  },
  {
   "cell_type": "code",
   "execution_count": 30,
   "id": "21b00596",
   "metadata": {},
   "outputs": [
    {
     "name": "stdout",
     "output_type": "stream",
     "text": [
      "Accuracy: 0.9920318725099602\n"
     ]
    }
   ],
   "source": [
    "accuracy = accuracy_score(y_test, prediction)\n",
    "print(\"Accuracy:\", accuracy)"
   ]
  },
  {
   "cell_type": "markdown",
   "id": "58c6ab3e",
   "metadata": {},
   "source": [
    "### calculate confusion_matrix"
   ]
  },
  {
   "cell_type": "code",
   "execution_count": 31,
   "id": "f8e7be42",
   "metadata": {},
   "outputs": [],
   "source": [
    "cm = confusion_matrix(y_test, prediction)"
   ]
  },
  {
   "cell_type": "markdown",
   "id": "052855dd",
   "metadata": {},
   "source": [
    "### Show confusion_matrix"
   ]
  },
  {
   "cell_type": "code",
   "execution_count": 32,
   "id": "ac45bc33",
   "metadata": {},
   "outputs": [
    {
     "data": {
      "image/png": "[encoded data removed]",
      "text/plain": [
       "<Figure size 432x288 with 2 Axes>"
      ]
     },
     "metadata": {
      "needs_background": "light"
     },
     "output_type": "display_data"
    }
   ],
   "source": [
    "ax= plt.subplot()\n",
    "sns.heatmap(cm, annot=True, fmt='g', ax=ax); #annot=True to annotate cells, ftm='g' to disable scientific notation\n"
   ]
  },
  {
   "cell_type": "markdown",
   "id": "15643381",
   "metadata": {},
   "source": [
    "### calculate Classification_Report"
   ]
  },
  {
   "cell_type": "code",
   "execution_count": 33,
   "id": "a634060a",
   "metadata": {},
   "outputs": [
    {
     "name": "stdout",
     "output_type": "stream",
     "text": [
      "              precision    recall  f1-score   support\n",
      "\n",
      "           0       0.99      1.00      1.00       245\n",
      "           1       1.00      0.67      0.80         6\n",
      "\n",
      "    accuracy                           0.99       251\n",
      "   macro avg       1.00      0.83      0.90       251\n",
      "weighted avg       0.99      0.99      0.99       251\n",
      "\n"
     ]
    }
   ],
   "source": [
    "Classification_Report =classification_report(y_test, prediction)\n",
    "print(Classification_Report)"
   ]
  },
  {
   "cell_type": "markdown",
   "id": "5139ab4f",
   "metadata": {},
   "source": [
    "### save the model to disk"
   ]
  },
  {
   "cell_type": "code",
   "execution_count": 46,
   "id": "2896dde0",
   "metadata": {},
   "outputs": [],
   "source": [
    "pickle.dump(model, open(DF_EXPORT_MODEL, 'wb'))\n",
    " "
   ]
  }
 ],
 "metadata": {
  "kernelspec": {
   "display_name": "Python 3 (ipykernel)",
   "language": "python",
   "name": "python3"
  },
  "language_info": {
   "codemirror_mode": {
    "name": "ipython",
    "version": 3
   },
   "file_extension": ".py",
   "mimetype": "text/x-python",
   "name": "python",
   "nbconvert_exporter": "python",
   "pygments_lexer": "ipython3",
   "version": "3.9.12"
  }
 },
 "nbformat": 4,
 "nbformat_minor": 5
}
