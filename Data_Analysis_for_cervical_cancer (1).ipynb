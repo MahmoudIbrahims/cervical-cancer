{
 "cells": [
  {
   "cell_type": "code",
   "execution_count": 8,
   "id": "660baae9",
   "metadata": {},
   "outputs": [],
   "source": [
    "FILE_PATH =\"cervical-cancer.csv\"\n",
    "DF_EXPORT =\"cervical-cancer_part_1.csv\""
   ]
  },
  {
   "cell_type": "markdown",
   "id": "8652c173",
   "metadata": {},
   "source": [
    "### load libraries"
   ]
  },
  {
   "cell_type": "code",
   "execution_count": 9,
   "id": "c286305a",
   "metadata": {},
   "outputs": [],
   "source": [
    "import pandas as pd\n",
    "import numpy as np\n",
    "import matplotlib.pyplot as plt\n",
    "%matplotlib inline\n",
    "import seaborn as sns \n",
    "import warnings\n",
    "warnings.filterwarnings(\"ignore\")\n",
    "from sklearn.pipeline import Pipeline\n",
    "from sklearn.impute import SimpleImputer\n",
    "from sklearn.preprocessing import StandardScaler"
   ]
  },
  {
   "cell_type": "markdown",
   "id": "cea4ee4f",
   "metadata": {},
   "source": [
    "### Read Data\n"
   ]
  },
  {
   "cell_type": "code",
   "execution_count": 10,
   "id": "00a2387a",
   "metadata": {},
   "outputs": [],
   "source": [
    "df =pd.read_csv(FILE_PATH)"
   ]
  },
  {
   "cell_type": "markdown",
   "id": "ce4b6952",
   "metadata": {},
   "source": [
    "### show five rows"
   ]
  },
  {
   "cell_type": "code",
   "execution_count": 11,
   "id": "38a1ee8b",
   "metadata": {},
   "outputs": [
    {
     "data": {
      "text/html": [
       "<div>\n",
       "<style scoped>\n",
       "    .dataframe tbody tr th:only-of-type {\n",
       "        vertical-align: middle;\n",
       "    }\n",
       "\n",
       "    .dataframe tbody tr th {\n",
       "        vertical-align: top;\n",
       "    }\n",
       "\n",
       "    .dataframe thead th {\n",
       "        text-align: right;\n",
       "    }\n",
       "</style>\n",
       "<table border=\"1\" class=\"dataframe\">\n",
       "  <thead>\n",
       "    <tr style=\"text-align: right;\">\n",
       "      <th></th>\n",
       "      <th>Age</th>\n",
       "      <th>Number of sexual partners</th>\n",
       "      <th>First sexual intercourse</th>\n",
       "      <th>Num of pregnancies</th>\n",
       "      <th>Smokes</th>\n",
       "      <th>Smokes (years)</th>\n",
       "      <th>Smokes (packs/year)</th>\n",
       "      <th>Hormonal Contraceptives</th>\n",
       "      <th>Hormonal Contraceptives (years)</th>\n",
       "      <th>IUD</th>\n",
       "      <th>...</th>\n",
       "      <th>STDs: Time since first diagnosis</th>\n",
       "      <th>STDs: Time since last diagnosis</th>\n",
       "      <th>Dx:Cancer</th>\n",
       "      <th>Dx:CIN</th>\n",
       "      <th>Dx:HPV</th>\n",
       "      <th>Dx</th>\n",
       "      <th>Hinselmann</th>\n",
       "      <th>Schiller</th>\n",
       "      <th>Citology</th>\n",
       "      <th>Biopsy</th>\n",
       "    </tr>\n",
       "  </thead>\n",
       "  <tbody>\n",
       "    <tr>\n",
       "      <th>0</th>\n",
       "      <td>18</td>\n",
       "      <td>4.0</td>\n",
       "      <td>15.0</td>\n",
       "      <td>1.0</td>\n",
       "      <td>0.0</td>\n",
       "      <td>0.0</td>\n",
       "      <td>0.0</td>\n",
       "      <td>0.0</td>\n",
       "      <td>0.0</td>\n",
       "      <td>0.0</td>\n",
       "      <td>...</td>\n",
       "      <td>NaN</td>\n",
       "      <td>NaN</td>\n",
       "      <td>0</td>\n",
       "      <td>0</td>\n",
       "      <td>0</td>\n",
       "      <td>0</td>\n",
       "      <td>0</td>\n",
       "      <td>0</td>\n",
       "      <td>0</td>\n",
       "      <td>0</td>\n",
       "    </tr>\n",
       "    <tr>\n",
       "      <th>1</th>\n",
       "      <td>15</td>\n",
       "      <td>1.0</td>\n",
       "      <td>14.0</td>\n",
       "      <td>1.0</td>\n",
       "      <td>0.0</td>\n",
       "      <td>0.0</td>\n",
       "      <td>0.0</td>\n",
       "      <td>0.0</td>\n",
       "      <td>0.0</td>\n",
       "      <td>0.0</td>\n",
       "      <td>...</td>\n",
       "      <td>NaN</td>\n",
       "      <td>NaN</td>\n",
       "      <td>0</td>\n",
       "      <td>0</td>\n",
       "      <td>0</td>\n",
       "      <td>0</td>\n",
       "      <td>0</td>\n",
       "      <td>0</td>\n",
       "      <td>0</td>\n",
       "      <td>0</td>\n",
       "    </tr>\n",
       "    <tr>\n",
       "      <th>2</th>\n",
       "      <td>34</td>\n",
       "      <td>1.0</td>\n",
       "      <td>NaN</td>\n",
       "      <td>1.0</td>\n",
       "      <td>0.0</td>\n",
       "      <td>0.0</td>\n",
       "      <td>0.0</td>\n",
       "      <td>0.0</td>\n",
       "      <td>0.0</td>\n",
       "      <td>0.0</td>\n",
       "      <td>...</td>\n",
       "      <td>NaN</td>\n",
       "      <td>NaN</td>\n",
       "      <td>0</td>\n",
       "      <td>0</td>\n",
       "      <td>0</td>\n",
       "      <td>0</td>\n",
       "      <td>0</td>\n",
       "      <td>0</td>\n",
       "      <td>0</td>\n",
       "      <td>0</td>\n",
       "    </tr>\n",
       "    <tr>\n",
       "      <th>3</th>\n",
       "      <td>52</td>\n",
       "      <td>5.0</td>\n",
       "      <td>16.0</td>\n",
       "      <td>4.0</td>\n",
       "      <td>1.0</td>\n",
       "      <td>37.0</td>\n",
       "      <td>37.0</td>\n",
       "      <td>1.0</td>\n",
       "      <td>3.0</td>\n",
       "      <td>0.0</td>\n",
       "      <td>...</td>\n",
       "      <td>NaN</td>\n",
       "      <td>NaN</td>\n",
       "      <td>1</td>\n",
       "      <td>0</td>\n",
       "      <td>1</td>\n",
       "      <td>0</td>\n",
       "      <td>0</td>\n",
       "      <td>0</td>\n",
       "      <td>0</td>\n",
       "      <td>0</td>\n",
       "    </tr>\n",
       "    <tr>\n",
       "      <th>4</th>\n",
       "      <td>46</td>\n",
       "      <td>3.0</td>\n",
       "      <td>21.0</td>\n",
       "      <td>4.0</td>\n",
       "      <td>0.0</td>\n",
       "      <td>0.0</td>\n",
       "      <td>0.0</td>\n",
       "      <td>1.0</td>\n",
       "      <td>15.0</td>\n",
       "      <td>0.0</td>\n",
       "      <td>...</td>\n",
       "      <td>NaN</td>\n",
       "      <td>NaN</td>\n",
       "      <td>0</td>\n",
       "      <td>0</td>\n",
       "      <td>0</td>\n",
       "      <td>0</td>\n",
       "      <td>0</td>\n",
       "      <td>0</td>\n",
       "      <td>0</td>\n",
       "      <td>0</td>\n",
       "    </tr>\n",
       "  </tbody>\n",
       "</table>\n",
       "<p>5 rows × 36 columns</p>\n",
       "</div>"
      ],
      "text/plain": [
       "   Age  Number of sexual partners  First sexual intercourse  \\\n",
       "0   18                        4.0                      15.0   \n",
       "1   15                        1.0                      14.0   \n",
       "2   34                        1.0                       NaN   \n",
       "3   52                        5.0                      16.0   \n",
       "4   46                        3.0                      21.0   \n",
       "\n",
       "   Num of pregnancies  Smokes  Smokes (years)  Smokes (packs/year)  \\\n",
       "0                 1.0     0.0             0.0                  0.0   \n",
       "1                 1.0     0.0             0.0                  0.0   \n",
       "2                 1.0     0.0             0.0                  0.0   \n",
       "3                 4.0     1.0            37.0                 37.0   \n",
       "4                 4.0     0.0             0.0                  0.0   \n",
       "\n",
       "   Hormonal Contraceptives  Hormonal Contraceptives (years)  IUD  ...  \\\n",
       "0                      0.0                              0.0  0.0  ...   \n",
       "1                      0.0                              0.0  0.0  ...   \n",
       "2                      0.0                              0.0  0.0  ...   \n",
       "3                      1.0                              3.0  0.0  ...   \n",
       "4                      1.0                             15.0  0.0  ...   \n",
       "\n",
       "   STDs: Time since first diagnosis  STDs: Time since last diagnosis  \\\n",
       "0                               NaN                              NaN   \n",
       "1                               NaN                              NaN   \n",
       "2                               NaN                              NaN   \n",
       "3                               NaN                              NaN   \n",
       "4                               NaN                              NaN   \n",
       "\n",
       "   Dx:Cancer  Dx:CIN  Dx:HPV  Dx  Hinselmann  Schiller  Citology  Biopsy  \n",
       "0          0       0       0   0           0         0         0       0  \n",
       "1          0       0       0   0           0         0         0       0  \n",
       "2          0       0       0   0           0         0         0       0  \n",
       "3          1       0       1   0           0         0         0       0  \n",
       "4          0       0       0   0           0         0         0       0  \n",
       "\n",
       "[5 rows x 36 columns]"
      ]
     },
     "execution_count": 11,
     "metadata": {},
     "output_type": "execute_result"
    }
   ],
   "source": [
    "df.head()"
   ]
  },
  {
   "cell_type": "markdown",
   "id": "5eb2a891",
   "metadata": {},
   "source": [
    "### show dimensions data "
   ]
  },
  {
   "cell_type": "code",
   "execution_count": 12,
   "id": "7a1e81b7",
   "metadata": {},
   "outputs": [
    {
     "data": {
      "text/plain": [
       "(835, 36)"
      ]
     },
     "execution_count": 12,
     "metadata": {},
     "output_type": "execute_result"
    }
   ],
   "source": [
    "df.shape"
   ]
  },
  {
   "cell_type": "markdown",
   "id": "5673c792",
   "metadata": {},
   "source": [
    "### show information inside data"
   ]
  },
  {
   "cell_type": "code",
   "execution_count": 13,
   "id": "e6566792",
   "metadata": {
    "scrolled": true
   },
   "outputs": [
    {
     "name": "stdout",
     "output_type": "stream",
     "text": [
      "<class 'pandas.core.frame.DataFrame'>\n",
      "RangeIndex: 835 entries, 0 to 834\n",
      "Data columns (total 36 columns):\n",
      " #   Column                              Non-Null Count  Dtype  \n",
      "---  ------                              --------------  -----  \n",
      " 0   Age                                 835 non-null    int64  \n",
      " 1   Number of sexual partners           810 non-null    float64\n",
      " 2   First sexual intercourse            828 non-null    float64\n",
      " 3   Num of pregnancies                  779 non-null    float64\n",
      " 4   Smokes                              822 non-null    float64\n",
      " 5   Smokes (years)                      822 non-null    float64\n",
      " 6   Smokes (packs/year)                 822 non-null    float64\n",
      " 7   Hormonal Contraceptives             732 non-null    float64\n",
      " 8   Hormonal Contraceptives (years)     732 non-null    float64\n",
      " 9   IUD                                 723 non-null    float64\n",
      " 10  IUD (years)                         723 non-null    float64\n",
      " 11  STDs                                735 non-null    float64\n",
      " 12  STDs (number)                       735 non-null    float64\n",
      " 13  STDs:condylomatosis                 735 non-null    float64\n",
      " 14  STDs:cervical condylomatosis        735 non-null    float64\n",
      " 15  STDs:vaginal condylomatosis         735 non-null    float64\n",
      " 16  STDs:vulvo-perineal condylomatosis  735 non-null    float64\n",
      " 17  STDs:syphilis                       735 non-null    float64\n",
      " 18  STDs:pelvic inflammatory disease    735 non-null    float64\n",
      " 19  STDs:genital herpes                 735 non-null    float64\n",
      " 20  STDs:molluscum contagiosum          735 non-null    float64\n",
      " 21  STDs:AIDS                           735 non-null    float64\n",
      " 22  STDs:HIV                            735 non-null    float64\n",
      " 23  STDs:Hepatitis B                    735 non-null    float64\n",
      " 24  STDs:HPV                            735 non-null    float64\n",
      " 25  STDs: Number of diagnosis           835 non-null    int64  \n",
      " 26  STDs: Time since first diagnosis    71 non-null     float64\n",
      " 27  STDs: Time since last diagnosis     71 non-null     float64\n",
      " 28  Dx:Cancer                           835 non-null    int64  \n",
      " 29  Dx:CIN                              835 non-null    int64  \n",
      " 30  Dx:HPV                              835 non-null    int64  \n",
      " 31  Dx                                  835 non-null    int64  \n",
      " 32  Hinselmann                          835 non-null    int64  \n",
      " 33  Schiller                            835 non-null    int64  \n",
      " 34  Citology                            835 non-null    int64  \n",
      " 35  Biopsy                              835 non-null    int64  \n",
      "dtypes: float64(26), int64(10)\n",
      "memory usage: 234.9 KB\n"
     ]
    }
   ],
   "source": [
    "df.info()"
   ]
  },
  {
   "cell_type": "markdown",
   "id": "e0b1fe8a",
   "metadata": {},
   "source": [
    "### check null value "
   ]
  },
  {
   "cell_type": "code",
   "execution_count": 14,
   "id": "fe6f16e0",
   "metadata": {},
   "outputs": [
    {
     "data": {
      "text/plain": [
       "Age                                     0\n",
       "Number of sexual partners              25\n",
       "First sexual intercourse                7\n",
       "Num of pregnancies                     56\n",
       "Smokes                                 13\n",
       "Smokes (years)                         13\n",
       "Smokes (packs/year)                    13\n",
       "Hormonal Contraceptives               103\n",
       "Hormonal Contraceptives (years)       103\n",
       "IUD                                   112\n",
       "IUD (years)                           112\n",
       "STDs                                  100\n",
       "STDs (number)                         100\n",
       "STDs:condylomatosis                   100\n",
       "STDs:cervical condylomatosis          100\n",
       "STDs:vaginal condylomatosis           100\n",
       "STDs:vulvo-perineal condylomatosis    100\n",
       "STDs:syphilis                         100\n",
       "STDs:pelvic inflammatory disease      100\n",
       "STDs:genital herpes                   100\n",
       "STDs:molluscum contagiosum            100\n",
       "STDs:AIDS                             100\n",
       "STDs:HIV                              100\n",
       "STDs:Hepatitis B                      100\n",
       "STDs:HPV                              100\n",
       "STDs: Number of diagnosis               0\n",
       "STDs: Time since first diagnosis      764\n",
       "STDs: Time since last diagnosis       764\n",
       "Dx:Cancer                               0\n",
       "Dx:CIN                                  0\n",
       "Dx:HPV                                  0\n",
       "Dx                                      0\n",
       "Hinselmann                              0\n",
       "Schiller                                0\n",
       "Citology                                0\n",
       "Biopsy                                  0\n",
       "dtype: int64"
      ]
     },
     "execution_count": 14,
     "metadata": {},
     "output_type": "execute_result"
    }
   ],
   "source": [
    "df.isnull().sum()"
   ]
  },
  {
   "cell_type": "markdown",
   "id": "0580f3cd",
   "metadata": {},
   "source": [
    "### group by cancer for maximum "
   ]
  },
  {
   "cell_type": "code",
   "execution_count": 15,
   "id": "7a20d9fa",
   "metadata": {},
   "outputs": [
    {
     "data": {
      "text/html": [
       "<div>\n",
       "<style scoped>\n",
       "    .dataframe tbody tr th:only-of-type {\n",
       "        vertical-align: middle;\n",
       "    }\n",
       "\n",
       "    .dataframe tbody tr th {\n",
       "        vertical-align: top;\n",
       "    }\n",
       "\n",
       "    .dataframe thead th {\n",
       "        text-align: right;\n",
       "    }\n",
       "</style>\n",
       "<table border=\"1\" class=\"dataframe\">\n",
       "  <thead>\n",
       "    <tr style=\"text-align: right;\">\n",
       "      <th></th>\n",
       "      <th>Age</th>\n",
       "      <th>Number of sexual partners</th>\n",
       "      <th>First sexual intercourse</th>\n",
       "      <th>Num of pregnancies</th>\n",
       "      <th>Smokes</th>\n",
       "      <th>Smokes (years)</th>\n",
       "      <th>Smokes (packs/year)</th>\n",
       "      <th>Hormonal Contraceptives</th>\n",
       "      <th>Hormonal Contraceptives (years)</th>\n",
       "      <th>IUD</th>\n",
       "      <th>...</th>\n",
       "      <th>STDs: Number of diagnosis</th>\n",
       "      <th>STDs: Time since first diagnosis</th>\n",
       "      <th>STDs: Time since last diagnosis</th>\n",
       "      <th>Dx:CIN</th>\n",
       "      <th>Dx:HPV</th>\n",
       "      <th>Dx</th>\n",
       "      <th>Hinselmann</th>\n",
       "      <th>Schiller</th>\n",
       "      <th>Citology</th>\n",
       "      <th>Biopsy</th>\n",
       "    </tr>\n",
       "    <tr>\n",
       "      <th>Dx:Cancer</th>\n",
       "      <th></th>\n",
       "      <th></th>\n",
       "      <th></th>\n",
       "      <th></th>\n",
       "      <th></th>\n",
       "      <th></th>\n",
       "      <th></th>\n",
       "      <th></th>\n",
       "      <th></th>\n",
       "      <th></th>\n",
       "      <th></th>\n",
       "      <th></th>\n",
       "      <th></th>\n",
       "      <th></th>\n",
       "      <th></th>\n",
       "      <th></th>\n",
       "      <th></th>\n",
       "      <th></th>\n",
       "      <th></th>\n",
       "      <th></th>\n",
       "      <th></th>\n",
       "    </tr>\n",
       "  </thead>\n",
       "  <tbody>\n",
       "    <tr>\n",
       "      <th>0</th>\n",
       "      <td>84</td>\n",
       "      <td>28.0</td>\n",
       "      <td>32.0</td>\n",
       "      <td>11.0</td>\n",
       "      <td>1.0</td>\n",
       "      <td>34.0</td>\n",
       "      <td>22.0</td>\n",
       "      <td>1.0</td>\n",
       "      <td>30.0</td>\n",
       "      <td>1.0</td>\n",
       "      <td>...</td>\n",
       "      <td>3</td>\n",
       "      <td>22.0</td>\n",
       "      <td>22.0</td>\n",
       "      <td>1</td>\n",
       "      <td>1</td>\n",
       "      <td>1</td>\n",
       "      <td>1</td>\n",
       "      <td>1</td>\n",
       "      <td>1</td>\n",
       "      <td>1</td>\n",
       "    </tr>\n",
       "    <tr>\n",
       "      <th>1</th>\n",
       "      <td>52</td>\n",
       "      <td>6.0</td>\n",
       "      <td>22.0</td>\n",
       "      <td>5.0</td>\n",
       "      <td>1.0</td>\n",
       "      <td>37.0</td>\n",
       "      <td>37.0</td>\n",
       "      <td>1.0</td>\n",
       "      <td>16.0</td>\n",
       "      <td>1.0</td>\n",
       "      <td>...</td>\n",
       "      <td>1</td>\n",
       "      <td>16.0</td>\n",
       "      <td>16.0</td>\n",
       "      <td>0</td>\n",
       "      <td>1</td>\n",
       "      <td>1</td>\n",
       "      <td>1</td>\n",
       "      <td>1</td>\n",
       "      <td>1</td>\n",
       "      <td>1</td>\n",
       "    </tr>\n",
       "  </tbody>\n",
       "</table>\n",
       "<p>2 rows × 35 columns</p>\n",
       "</div>"
      ],
      "text/plain": [
       "           Age  Number of sexual partners  First sexual intercourse  \\\n",
       "Dx:Cancer                                                             \n",
       "0           84                       28.0                      32.0   \n",
       "1           52                        6.0                      22.0   \n",
       "\n",
       "           Num of pregnancies  Smokes  Smokes (years)  Smokes (packs/year)  \\\n",
       "Dx:Cancer                                                                    \n",
       "0                        11.0     1.0            34.0                 22.0   \n",
       "1                         5.0     1.0            37.0                 37.0   \n",
       "\n",
       "           Hormonal Contraceptives  Hormonal Contraceptives (years)  IUD  ...  \\\n",
       "Dx:Cancer                                                                 ...   \n",
       "0                              1.0                             30.0  1.0  ...   \n",
       "1                              1.0                             16.0  1.0  ...   \n",
       "\n",
       "           STDs: Number of diagnosis  STDs: Time since first diagnosis  \\\n",
       "Dx:Cancer                                                                \n",
       "0                                  3                              22.0   \n",
       "1                                  1                              16.0   \n",
       "\n",
       "           STDs: Time since last diagnosis  Dx:CIN  Dx:HPV  Dx  Hinselmann  \\\n",
       "Dx:Cancer                                                                    \n",
       "0                                     22.0       1       1   1           1   \n",
       "1                                     16.0       0       1   1           1   \n",
       "\n",
       "           Schiller  Citology  Biopsy  \n",
       "Dx:Cancer                              \n",
       "0                 1         1       1  \n",
       "1                 1         1       1  \n",
       "\n",
       "[2 rows x 35 columns]"
      ]
     },
     "execution_count": 15,
     "metadata": {},
     "output_type": "execute_result"
    }
   ],
   "source": [
    "DATA =df.groupby(['Dx:Cancer']).max()\n",
    "DATA"
   ]
  },
  {
   "cell_type": "markdown",
   "id": "a55b373e",
   "metadata": {},
   "source": [
    "## calculate the correlation "
   ]
  },
  {
   "cell_type": "code",
   "execution_count": 16,
   "id": "35495dc9",
   "metadata": {
    "scrolled": true
   },
   "outputs": [
    {
     "data": {
      "text/html": [
       "<div>\n",
       "<style scoped>\n",
       "    .dataframe tbody tr th:only-of-type {\n",
       "        vertical-align: middle;\n",
       "    }\n",
       "\n",
       "    .dataframe tbody tr th {\n",
       "        vertical-align: top;\n",
       "    }\n",
       "\n",
       "    .dataframe thead th {\n",
       "        text-align: right;\n",
       "    }\n",
       "</style>\n",
       "<table border=\"1\" class=\"dataframe\">\n",
       "  <thead>\n",
       "    <tr style=\"text-align: right;\">\n",
       "      <th></th>\n",
       "      <th>index</th>\n",
       "      <th>Dx:Cancer</th>\n",
       "    </tr>\n",
       "  </thead>\n",
       "  <tbody>\n",
       "    <tr>\n",
       "      <th>0</th>\n",
       "      <td>Dx:Cancer</td>\n",
       "      <td>1.000000</td>\n",
       "    </tr>\n",
       "    <tr>\n",
       "      <th>1</th>\n",
       "      <td>Dx:HPV</td>\n",
       "      <td>0.886441</td>\n",
       "    </tr>\n",
       "    <tr>\n",
       "      <th>2</th>\n",
       "      <td>Dx</td>\n",
       "      <td>0.665423</td>\n",
       "    </tr>\n",
       "    <tr>\n",
       "      <th>3</th>\n",
       "      <td>STDs:HPV</td>\n",
       "      <td>0.329675</td>\n",
       "    </tr>\n",
       "    <tr>\n",
       "      <th>4</th>\n",
       "      <td>STDs: Time since last diagnosis</td>\n",
       "      <td>0.212983</td>\n",
       "    </tr>\n",
       "    <tr>\n",
       "      <th>5</th>\n",
       "      <td>STDs: Time since first diagnosis</td>\n",
       "      <td>0.201319</td>\n",
       "    </tr>\n",
       "    <tr>\n",
       "      <th>6</th>\n",
       "      <td>Biopsy</td>\n",
       "      <td>0.162142</td>\n",
       "    </tr>\n",
       "    <tr>\n",
       "      <th>7</th>\n",
       "      <td>Schiller</td>\n",
       "      <td>0.158419</td>\n",
       "    </tr>\n",
       "    <tr>\n",
       "      <th>8</th>\n",
       "      <td>Hinselmann</td>\n",
       "      <td>0.133550</td>\n",
       "    </tr>\n",
       "    <tr>\n",
       "      <th>9</th>\n",
       "      <td>Citology</td>\n",
       "      <td>0.114660</td>\n",
       "    </tr>\n",
       "    <tr>\n",
       "      <th>10</th>\n",
       "      <td>Smokes (packs/year)</td>\n",
       "      <td>0.110852</td>\n",
       "    </tr>\n",
       "    <tr>\n",
       "      <th>11</th>\n",
       "      <td>IUD</td>\n",
       "      <td>0.109539</td>\n",
       "    </tr>\n",
       "    <tr>\n",
       "      <th>12</th>\n",
       "      <td>Age</td>\n",
       "      <td>0.108519</td>\n",
       "    </tr>\n",
       "  </tbody>\n",
       "</table>\n",
       "</div>"
      ],
      "text/plain": [
       "                               index  Dx:Cancer\n",
       "0                          Dx:Cancer   1.000000\n",
       "1                             Dx:HPV   0.886441\n",
       "2                                 Dx   0.665423\n",
       "3                           STDs:HPV   0.329675\n",
       "4    STDs: Time since last diagnosis   0.212983\n",
       "5   STDs: Time since first diagnosis   0.201319\n",
       "6                             Biopsy   0.162142\n",
       "7                           Schiller   0.158419\n",
       "8                         Hinselmann   0.133550\n",
       "9                           Citology   0.114660\n",
       "10               Smokes (packs/year)   0.110852\n",
       "11                               IUD   0.109539\n",
       "12                               Age   0.108519"
      ]
     },
     "execution_count": 16,
     "metadata": {},
     "output_type": "execute_result"
    }
   ],
   "source": [
    "df_corrolation =df.corr()\n",
    "df_corrolation[\"Dx:Cancer\"].sort_values(ascending =False).reset_index().head(13)"
   ]
  },
  {
   "cell_type": "markdown",
   "id": "f3cefc30",
   "metadata": {},
   "source": [
    "# Data visualization"
   ]
  },
  {
   "cell_type": "code",
   "execution_count": 17,
   "id": "665af5c0",
   "metadata": {},
   "outputs": [
    {
     "data": {
      "text/plain": [
       "<AxesSubplot:>"
      ]
     },
     "execution_count": 17,
     "metadata": {},
     "output_type": "execute_result"
    },
    {
     "data": {
      "image/png": "[encoded data removed]",
      "text/plain": [
       "<Figure size 432x288 with 2 Axes>"
      ]
     },
     "metadata": {
      "needs_background": "light"
     },
     "output_type": "display_data"
    }
   ],
   "source": [
    "sns.heatmap(df_corrolation)"
   ]
  },
  {
   "cell_type": "code",
   "execution_count": 18,
   "id": "dd46599a",
   "metadata": {},
   "outputs": [
    {
     "data": {
      "image/png": "[encoded data removed]",
      "text/plain": [
       "<Figure size 432x288 with 1 Axes>"
      ]
     },
     "metadata": {
      "needs_background": "light"
     },
     "output_type": "display_data"
    }
   ],
   "source": [
    "sns.lineplot(df[\"STDs: Time since first diagnosis\"],df[\"Dx:Cancer\"],data=df)\n",
    "plt.show()"
   ]
  },
  {
   "cell_type": "code",
   "execution_count": 19,
   "id": "c503e223",
   "metadata": {},
   "outputs": [
    {
     "data": {
      "image/png": "[encoded data removed]",
      "text/plain": [
       "<Figure size 432x288 with 1 Axes>"
      ]
     },
     "metadata": {
      "needs_background": "light"
     },
     "output_type": "display_data"
    }
   ],
   "source": [
    "sns.lineplot(df[\"Age\"],df[\"Dx:Cancer\"],data=df)\n",
    "plt.show()"
   ]
  },
  {
   "cell_type": "code",
   "execution_count": 20,
   "id": "ce7fccb0",
   "metadata": {},
   "outputs": [],
   "source": [
    "columns =[\"Dx:Cancer\",\"Dx:HPV\",\"Dx\",\"STDs:HPV\",'STDs: Time since last diagnosis',\n",
    "         \"STDs: Time since first diagnosis\",\"Biopsy\",\"Schiller\",\"Hinselmann\",\"Citology\",\n",
    "         \"Smokes (packs/year)\",\"IUD\",\"Age\"]"
   ]
  },
  {
   "cell_type": "code",
   "execution_count": 21,
   "id": "f8c27ded",
   "metadata": {},
   "outputs": [
    {
     "data": {
      "image/png": "[encoded data removed]",
      "text/plain": [
       "<Figure size 432x288 with 1 Axes>"
      ]
     },
     "metadata": {
      "needs_background": "light"
     },
     "output_type": "display_data"
    },
    {
     "data": {
      "image/png": "[encoded data removed]",
      "text/plain": [
       "<Figure size 432x288 with 1 Axes>"
      ]
     },
     "metadata": {
      "needs_background": "light"
     },
     "output_type": "display_data"
    },
    {
     "data": {
      "image/png": "[encoded data removed]",
      "text/plain": [
       "<Figure size 432x288 with 1 Axes>"
      ]
     },
     "metadata": {
      "needs_background": "light"
     },
     "output_type": "display_data"
    },
    {
     "data": {
      "image/png": "[encoded data removed]",
      "text/plain": [
       "<Figure size 432x288 with 1 Axes>"
      ]
     },
     "metadata": {
      "needs_background": "light"
     },
     "output_type": "display_data"
    },
    {
     "data": {
      "image/png": "[encoded data removed]",
      "text/plain": [
       "<Figure size 432x288 with 1 Axes>"
      ]
     },
     "metadata": {
      "needs_background": "light"
     },
     "output_type": "display_data"
    },
    {
     "data": {
      "image/png": "[encoded data removed]",
      "text/plain": [
       "<Figure size 432x288 with 1 Axes>"
      ]
     },
     "metadata": {
      "needs_background": "light"
     },
     "output_type": "display_data"
    },
    {
     "data": {
      "image/png": "[encoded data removed]",
      "text/plain": [
       "<Figure size 432x288 with 1 Axes>"
      ]
     },
     "metadata": {
      "needs_background": "light"
     },
     "output_type": "display_data"
    },
    {
     "data": {
      "image/png": "[encoded data removed]",
      "text/plain": [
       "<Figure size 432x288 with 1 Axes>"
      ]
     },
     "metadata": {
      "needs_background": "light"
     },
     "output_type": "display_data"
    },
    {
     "data": {
      "image/png": "[encoded data removed]",
      "text/plain": [
       "<Figure size 432x288 with 1 Axes>"
      ]
     },
     "metadata": {
      "needs_background": "light"
     },
     "output_type": "display_data"
    },
    {
     "data": {
      "image/png": "[encoded data removed]",
      "text/plain": [
       "<Figure size 432x288 with 1 Axes>"
      ]
     },
     "metadata": {
      "needs_background": "light"
     },
     "output_type": "display_data"
    },
    {
     "data": {
      "image/png": "[encoded data removed]",
      "text/plain": [
       "<Figure size 432x288 with 1 Axes>"
      ]
     },
     "metadata": {
      "needs_background": "light"
     },
     "output_type": "display_data"
    },
    {
     "data": {
      "image/png": "[encoded data removed]",
      "text/plain": [
       "<Figure size 432x288 with 1 Axes>"
      ]
     },
     "metadata": {
      "needs_background": "light"
     },
     "output_type": "display_data"
    },
    {
     "data": {
      "image/png": "[encoded data removed]",
      "text/plain": [
       "<Figure size 432x288 with 1 Axes>"
      ]
     },
     "metadata": {
      "needs_background": "light"
     },
     "output_type": "display_data"
    }
   ],
   "source": [
    "for i in columns:\n",
    "    sns.lineplot(df[i],df[\"Dx:Cancer\"],data=df)\n",
    "    plt.show()\n",
    "    "
   ]
  },
  {
   "cell_type": "code",
   "execution_count": 22,
   "id": "96ffd102",
   "metadata": {},
   "outputs": [
    {
     "data": {
      "text/plain": [
       "Age                                     0\n",
       "Number of sexual partners              25\n",
       "First sexual intercourse                7\n",
       "Num of pregnancies                     56\n",
       "Smokes                                 13\n",
       "Smokes (years)                         13\n",
       "Smokes (packs/year)                    13\n",
       "Hormonal Contraceptives               103\n",
       "Hormonal Contraceptives (years)       103\n",
       "IUD                                   112\n",
       "IUD (years)                           112\n",
       "STDs                                  100\n",
       "STDs (number)                         100\n",
       "STDs:condylomatosis                   100\n",
       "STDs:cervical condylomatosis          100\n",
       "STDs:vaginal condylomatosis           100\n",
       "STDs:vulvo-perineal condylomatosis    100\n",
       "STDs:syphilis                         100\n",
       "STDs:pelvic inflammatory disease      100\n",
       "STDs:genital herpes                   100\n",
       "STDs:molluscum contagiosum            100\n",
       "STDs:AIDS                             100\n",
       "STDs:HIV                              100\n",
       "STDs:Hepatitis B                      100\n",
       "STDs:HPV                              100\n",
       "STDs: Number of diagnosis               0\n",
       "STDs: Time since first diagnosis      764\n",
       "STDs: Time since last diagnosis       764\n",
       "Dx:Cancer                               0\n",
       "Dx:CIN                                  0\n",
       "Dx:HPV                                  0\n",
       "Dx                                      0\n",
       "Hinselmann                              0\n",
       "Schiller                                0\n",
       "Citology                                0\n",
       "Biopsy                                  0\n",
       "dtype: int64"
      ]
     },
     "execution_count": 22,
     "metadata": {},
     "output_type": "execute_result"
    }
   ],
   "source": [
    "df.isnull().sum()"
   ]
  },
  {
   "cell_type": "markdown",
   "id": "b0556d13",
   "metadata": {},
   "source": [
    "### Remove the two columns STDs: Time since first diagnosis and STDs: Time since last diagnosis"
   ]
  },
  {
   "cell_type": "code",
   "execution_count": 23,
   "id": "2e976895",
   "metadata": {},
   "outputs": [],
   "source": [
    "df.drop([\"STDs: Time since first diagnosis\",\"STDs: Time since last diagnosis\"],inplace =True,axis =1)"
   ]
  },
  {
   "cell_type": "code",
   "execution_count": 24,
   "id": "66d3fb92",
   "metadata": {},
   "outputs": [
    {
     "data": {
      "text/plain": [
       "(835, 34)"
      ]
     },
     "execution_count": 24,
     "metadata": {},
     "output_type": "execute_result"
    }
   ],
   "source": [
    "df.shape"
   ]
  },
  {
   "cell_type": "markdown",
   "id": "c9ca66a4",
   "metadata": {},
   "source": [
    "# split data "
   ]
  },
  {
   "cell_type": "code",
   "execution_count": 26,
   "id": "6736bce2",
   "metadata": {},
   "outputs": [],
   "source": [
    "x =df.drop([\"Dx:Cancer\"],axis =1)\n",
    "y =df[\"Dx:Cancer\"]"
   ]
  },
  {
   "cell_type": "markdown",
   "id": "05eedee8",
   "metadata": {},
   "source": [
    "### cleanind and normalizaion data "
   ]
  },
  {
   "cell_type": "code",
   "execution_count": 27,
   "id": "d5cd0065",
   "metadata": {},
   "outputs": [],
   "source": [
    "enc = Pipeline(steps=[\n",
    "    (\"scaler\", StandardScaler()),\n",
    "    (\"imputer\", SimpleImputer(missing_values=np.nan, strategy='mean')),\n",
    "])\n",
    "X =pd.DataFrame(enc.fit_transform(x),columns =x.columns)"
   ]
  },
  {
   "cell_type": "code",
   "execution_count": 28,
   "id": "05266e0c",
   "metadata": {},
   "outputs": [
    {
     "data": {
      "text/html": [
       "<div>\n",
       "<style scoped>\n",
       "    .dataframe tbody tr th:only-of-type {\n",
       "        vertical-align: middle;\n",
       "    }\n",
       "\n",
       "    .dataframe tbody tr th {\n",
       "        vertical-align: top;\n",
       "    }\n",
       "\n",
       "    .dataframe thead th {\n",
       "        text-align: right;\n",
       "    }\n",
       "</style>\n",
       "<table border=\"1\" class=\"dataframe\">\n",
       "  <thead>\n",
       "    <tr style=\"text-align: right;\">\n",
       "      <th></th>\n",
       "      <th>Age</th>\n",
       "      <th>Number of sexual partners</th>\n",
       "      <th>First sexual intercourse</th>\n",
       "      <th>Num of pregnancies</th>\n",
       "      <th>Smokes</th>\n",
       "      <th>Smokes (years)</th>\n",
       "      <th>Smokes (packs/year)</th>\n",
       "      <th>Hormonal Contraceptives</th>\n",
       "      <th>Hormonal Contraceptives (years)</th>\n",
       "      <th>IUD</th>\n",
       "      <th>...</th>\n",
       "      <th>STDs:Hepatitis B</th>\n",
       "      <th>STDs:HPV</th>\n",
       "      <th>STDs: Number of diagnosis</th>\n",
       "      <th>Dx:CIN</th>\n",
       "      <th>Dx:HPV</th>\n",
       "      <th>Dx</th>\n",
       "      <th>Hinselmann</th>\n",
       "      <th>Schiller</th>\n",
       "      <th>Citology</th>\n",
       "      <th>Biopsy</th>\n",
       "    </tr>\n",
       "  </thead>\n",
       "  <tbody>\n",
       "    <tr>\n",
       "      <th>0</th>\n",
       "      <td>-1.064408</td>\n",
       "      <td>0.864230</td>\n",
       "      <td>-7.176970e-01</td>\n",
       "      <td>-0.896455</td>\n",
       "      <td>-0.419483</td>\n",
       "      <td>-0.302993</td>\n",
       "      <td>-0.206583</td>\n",
       "      <td>-1.367694</td>\n",
       "      <td>-0.607375</td>\n",
       "      <td>-0.360122</td>\n",
       "      <td>...</td>\n",
       "      <td>-0.036911</td>\n",
       "      <td>-0.052235</td>\n",
       "      <td>-0.293385</td>\n",
       "      <td>-0.104383</td>\n",
       "      <td>-0.148431</td>\n",
       "      <td>-0.172026</td>\n",
       "      <td>-0.209165</td>\n",
       "      <td>-0.309517</td>\n",
       "      <td>-0.233008</td>\n",
       "      <td>-0.262949</td>\n",
       "    </tr>\n",
       "    <tr>\n",
       "      <th>1</th>\n",
       "      <td>-1.418269</td>\n",
       "      <td>-0.926119</td>\n",
       "      <td>-1.072899e+00</td>\n",
       "      <td>-0.896455</td>\n",
       "      <td>-0.419483</td>\n",
       "      <td>-0.302993</td>\n",
       "      <td>-0.206583</td>\n",
       "      <td>-1.367694</td>\n",
       "      <td>-0.607375</td>\n",
       "      <td>-0.360122</td>\n",
       "      <td>...</td>\n",
       "      <td>-0.036911</td>\n",
       "      <td>-0.052235</td>\n",
       "      <td>-0.293385</td>\n",
       "      <td>-0.104383</td>\n",
       "      <td>-0.148431</td>\n",
       "      <td>-0.172026</td>\n",
       "      <td>-0.209165</td>\n",
       "      <td>-0.309517</td>\n",
       "      <td>-0.233008</td>\n",
       "      <td>-0.262949</td>\n",
       "    </tr>\n",
       "    <tr>\n",
       "      <th>2</th>\n",
       "      <td>0.822850</td>\n",
       "      <td>-0.926119</td>\n",
       "      <td>-4.119088e-16</td>\n",
       "      <td>-0.896455</td>\n",
       "      <td>-0.419483</td>\n",
       "      <td>-0.302993</td>\n",
       "      <td>-0.206583</td>\n",
       "      <td>-1.367694</td>\n",
       "      <td>-0.607375</td>\n",
       "      <td>-0.360122</td>\n",
       "      <td>...</td>\n",
       "      <td>-0.036911</td>\n",
       "      <td>-0.052235</td>\n",
       "      <td>-0.293385</td>\n",
       "      <td>-0.104383</td>\n",
       "      <td>-0.148431</td>\n",
       "      <td>-0.172026</td>\n",
       "      <td>-0.209165</td>\n",
       "      <td>-0.309517</td>\n",
       "      <td>-0.233008</td>\n",
       "      <td>-0.262949</td>\n",
       "    </tr>\n",
       "    <tr>\n",
       "      <th>3</th>\n",
       "      <td>2.946016</td>\n",
       "      <td>1.461013</td>\n",
       "      <td>-3.624949e-01</td>\n",
       "      <td>1.165568</td>\n",
       "      <td>2.383889</td>\n",
       "      <td>8.638075</td>\n",
       "      <td>16.202125</td>\n",
       "      <td>0.731157</td>\n",
       "      <td>0.183850</td>\n",
       "      <td>-0.360122</td>\n",
       "      <td>...</td>\n",
       "      <td>-0.036911</td>\n",
       "      <td>-0.052235</td>\n",
       "      <td>-0.293385</td>\n",
       "      <td>-0.104383</td>\n",
       "      <td>6.737128</td>\n",
       "      <td>-0.172026</td>\n",
       "      <td>-0.209165</td>\n",
       "      <td>-0.309517</td>\n",
       "      <td>-0.233008</td>\n",
       "      <td>-0.262949</td>\n",
       "    </tr>\n",
       "    <tr>\n",
       "      <th>4</th>\n",
       "      <td>2.238294</td>\n",
       "      <td>0.267447</td>\n",
       "      <td>1.413516e+00</td>\n",
       "      <td>1.165568</td>\n",
       "      <td>-0.419483</td>\n",
       "      <td>-0.302993</td>\n",
       "      <td>-0.206583</td>\n",
       "      <td>0.731157</td>\n",
       "      <td>3.348752</td>\n",
       "      <td>-0.360122</td>\n",
       "      <td>...</td>\n",
       "      <td>-0.036911</td>\n",
       "      <td>-0.052235</td>\n",
       "      <td>-0.293385</td>\n",
       "      <td>-0.104383</td>\n",
       "      <td>-0.148431</td>\n",
       "      <td>-0.172026</td>\n",
       "      <td>-0.209165</td>\n",
       "      <td>-0.309517</td>\n",
       "      <td>-0.233008</td>\n",
       "      <td>-0.262949</td>\n",
       "    </tr>\n",
       "  </tbody>\n",
       "</table>\n",
       "<p>5 rows × 33 columns</p>\n",
       "</div>"
      ],
      "text/plain": [
       "        Age  Number of sexual partners  First sexual intercourse  \\\n",
       "0 -1.064408                   0.864230             -7.176970e-01   \n",
       "1 -1.418269                  -0.926119             -1.072899e+00   \n",
       "2  0.822850                  -0.926119             -4.119088e-16   \n",
       "3  2.946016                   1.461013             -3.624949e-01   \n",
       "4  2.238294                   0.267447              1.413516e+00   \n",
       "\n",
       "   Num of pregnancies    Smokes  Smokes (years)  Smokes (packs/year)  \\\n",
       "0           -0.896455 -0.419483       -0.302993            -0.206583   \n",
       "1           -0.896455 -0.419483       -0.302993            -0.206583   \n",
       "2           -0.896455 -0.419483       -0.302993            -0.206583   \n",
       "3            1.165568  2.383889        8.638075            16.202125   \n",
       "4            1.165568 -0.419483       -0.302993            -0.206583   \n",
       "\n",
       "   Hormonal Contraceptives  Hormonal Contraceptives (years)       IUD  ...  \\\n",
       "0                -1.367694                        -0.607375 -0.360122  ...   \n",
       "1                -1.367694                        -0.607375 -0.360122  ...   \n",
       "2                -1.367694                        -0.607375 -0.360122  ...   \n",
       "3                 0.731157                         0.183850 -0.360122  ...   \n",
       "4                 0.731157                         3.348752 -0.360122  ...   \n",
       "\n",
       "   STDs:Hepatitis B  STDs:HPV  STDs: Number of diagnosis    Dx:CIN    Dx:HPV  \\\n",
       "0         -0.036911 -0.052235                  -0.293385 -0.104383 -0.148431   \n",
       "1         -0.036911 -0.052235                  -0.293385 -0.104383 -0.148431   \n",
       "2         -0.036911 -0.052235                  -0.293385 -0.104383 -0.148431   \n",
       "3         -0.036911 -0.052235                  -0.293385 -0.104383  6.737128   \n",
       "4         -0.036911 -0.052235                  -0.293385 -0.104383 -0.148431   \n",
       "\n",
       "         Dx  Hinselmann  Schiller  Citology    Biopsy  \n",
       "0 -0.172026   -0.209165 -0.309517 -0.233008 -0.262949  \n",
       "1 -0.172026   -0.209165 -0.309517 -0.233008 -0.262949  \n",
       "2 -0.172026   -0.209165 -0.309517 -0.233008 -0.262949  \n",
       "3 -0.172026   -0.209165 -0.309517 -0.233008 -0.262949  \n",
       "4 -0.172026   -0.209165 -0.309517 -0.233008 -0.262949  \n",
       "\n",
       "[5 rows x 33 columns]"
      ]
     },
     "execution_count": 28,
     "metadata": {},
     "output_type": "execute_result"
    }
   ],
   "source": [
    "X.head()"
   ]
  },
  {
   "cell_type": "markdown",
   "id": "ce87ab40",
   "metadata": {},
   "source": [
    "### concatenation data"
   ]
  },
  {
   "cell_type": "code",
   "execution_count": 30,
   "id": "0172600e",
   "metadata": {},
   "outputs": [],
   "source": [
    "DF =pd.concat([X,y],axis =1)"
   ]
  },
  {
   "cell_type": "code",
   "execution_count": 31,
   "id": "cb851ab4",
   "metadata": {
    "scrolled": true
   },
   "outputs": [
    {
     "data": {
      "text/html": [
       "<div>\n",
       "<style scoped>\n",
       "    .dataframe tbody tr th:only-of-type {\n",
       "        vertical-align: middle;\n",
       "    }\n",
       "\n",
       "    .dataframe tbody tr th {\n",
       "        vertical-align: top;\n",
       "    }\n",
       "\n",
       "    .dataframe thead th {\n",
       "        text-align: right;\n",
       "    }\n",
       "</style>\n",
       "<table border=\"1\" class=\"dataframe\">\n",
       "  <thead>\n",
       "    <tr style=\"text-align: right;\">\n",
       "      <th></th>\n",
       "      <th>Age</th>\n",
       "      <th>Number of sexual partners</th>\n",
       "      <th>First sexual intercourse</th>\n",
       "      <th>Num of pregnancies</th>\n",
       "      <th>Smokes</th>\n",
       "      <th>Smokes (years)</th>\n",
       "      <th>Smokes (packs/year)</th>\n",
       "      <th>Hormonal Contraceptives</th>\n",
       "      <th>Hormonal Contraceptives (years)</th>\n",
       "      <th>IUD</th>\n",
       "      <th>...</th>\n",
       "      <th>STDs:HPV</th>\n",
       "      <th>STDs: Number of diagnosis</th>\n",
       "      <th>Dx:CIN</th>\n",
       "      <th>Dx:HPV</th>\n",
       "      <th>Dx</th>\n",
       "      <th>Hinselmann</th>\n",
       "      <th>Schiller</th>\n",
       "      <th>Citology</th>\n",
       "      <th>Biopsy</th>\n",
       "      <th>Dx:Cancer</th>\n",
       "    </tr>\n",
       "  </thead>\n",
       "  <tbody>\n",
       "    <tr>\n",
       "      <th>0</th>\n",
       "      <td>-1.064408</td>\n",
       "      <td>0.864230</td>\n",
       "      <td>-7.176970e-01</td>\n",
       "      <td>-0.896455</td>\n",
       "      <td>-0.419483</td>\n",
       "      <td>-0.302993</td>\n",
       "      <td>-0.206583</td>\n",
       "      <td>-1.367694</td>\n",
       "      <td>-0.607375</td>\n",
       "      <td>-0.360122</td>\n",
       "      <td>...</td>\n",
       "      <td>-0.052235</td>\n",
       "      <td>-0.293385</td>\n",
       "      <td>-0.104383</td>\n",
       "      <td>-0.148431</td>\n",
       "      <td>-0.172026</td>\n",
       "      <td>-0.209165</td>\n",
       "      <td>-0.309517</td>\n",
       "      <td>-0.233008</td>\n",
       "      <td>-0.262949</td>\n",
       "      <td>0</td>\n",
       "    </tr>\n",
       "    <tr>\n",
       "      <th>1</th>\n",
       "      <td>-1.418269</td>\n",
       "      <td>-0.926119</td>\n",
       "      <td>-1.072899e+00</td>\n",
       "      <td>-0.896455</td>\n",
       "      <td>-0.419483</td>\n",
       "      <td>-0.302993</td>\n",
       "      <td>-0.206583</td>\n",
       "      <td>-1.367694</td>\n",
       "      <td>-0.607375</td>\n",
       "      <td>-0.360122</td>\n",
       "      <td>...</td>\n",
       "      <td>-0.052235</td>\n",
       "      <td>-0.293385</td>\n",
       "      <td>-0.104383</td>\n",
       "      <td>-0.148431</td>\n",
       "      <td>-0.172026</td>\n",
       "      <td>-0.209165</td>\n",
       "      <td>-0.309517</td>\n",
       "      <td>-0.233008</td>\n",
       "      <td>-0.262949</td>\n",
       "      <td>0</td>\n",
       "    </tr>\n",
       "    <tr>\n",
       "      <th>2</th>\n",
       "      <td>0.822850</td>\n",
       "      <td>-0.926119</td>\n",
       "      <td>-4.119088e-16</td>\n",
       "      <td>-0.896455</td>\n",
       "      <td>-0.419483</td>\n",
       "      <td>-0.302993</td>\n",
       "      <td>-0.206583</td>\n",
       "      <td>-1.367694</td>\n",
       "      <td>-0.607375</td>\n",
       "      <td>-0.360122</td>\n",
       "      <td>...</td>\n",
       "      <td>-0.052235</td>\n",
       "      <td>-0.293385</td>\n",
       "      <td>-0.104383</td>\n",
       "      <td>-0.148431</td>\n",
       "      <td>-0.172026</td>\n",
       "      <td>-0.209165</td>\n",
       "      <td>-0.309517</td>\n",
       "      <td>-0.233008</td>\n",
       "      <td>-0.262949</td>\n",
       "      <td>0</td>\n",
       "    </tr>\n",
       "    <tr>\n",
       "      <th>3</th>\n",
       "      <td>2.946016</td>\n",
       "      <td>1.461013</td>\n",
       "      <td>-3.624949e-01</td>\n",
       "      <td>1.165568</td>\n",
       "      <td>2.383889</td>\n",
       "      <td>8.638075</td>\n",
       "      <td>16.202125</td>\n",
       "      <td>0.731157</td>\n",
       "      <td>0.183850</td>\n",
       "      <td>-0.360122</td>\n",
       "      <td>...</td>\n",
       "      <td>-0.052235</td>\n",
       "      <td>-0.293385</td>\n",
       "      <td>-0.104383</td>\n",
       "      <td>6.737128</td>\n",
       "      <td>-0.172026</td>\n",
       "      <td>-0.209165</td>\n",
       "      <td>-0.309517</td>\n",
       "      <td>-0.233008</td>\n",
       "      <td>-0.262949</td>\n",
       "      <td>1</td>\n",
       "    </tr>\n",
       "    <tr>\n",
       "      <th>4</th>\n",
       "      <td>2.238294</td>\n",
       "      <td>0.267447</td>\n",
       "      <td>1.413516e+00</td>\n",
       "      <td>1.165568</td>\n",
       "      <td>-0.419483</td>\n",
       "      <td>-0.302993</td>\n",
       "      <td>-0.206583</td>\n",
       "      <td>0.731157</td>\n",
       "      <td>3.348752</td>\n",
       "      <td>-0.360122</td>\n",
       "      <td>...</td>\n",
       "      <td>-0.052235</td>\n",
       "      <td>-0.293385</td>\n",
       "      <td>-0.104383</td>\n",
       "      <td>-0.148431</td>\n",
       "      <td>-0.172026</td>\n",
       "      <td>-0.209165</td>\n",
       "      <td>-0.309517</td>\n",
       "      <td>-0.233008</td>\n",
       "      <td>-0.262949</td>\n",
       "      <td>0</td>\n",
       "    </tr>\n",
       "  </tbody>\n",
       "</table>\n",
       "<p>5 rows × 34 columns</p>\n",
       "</div>"
      ],
      "text/plain": [
       "        Age  Number of sexual partners  First sexual intercourse  \\\n",
       "0 -1.064408                   0.864230             -7.176970e-01   \n",
       "1 -1.418269                  -0.926119             -1.072899e+00   \n",
       "2  0.822850                  -0.926119             -4.119088e-16   \n",
       "3  2.946016                   1.461013             -3.624949e-01   \n",
       "4  2.238294                   0.267447              1.413516e+00   \n",
       "\n",
       "   Num of pregnancies    Smokes  Smokes (years)  Smokes (packs/year)  \\\n",
       "0           -0.896455 -0.419483       -0.302993            -0.206583   \n",
       "1           -0.896455 -0.419483       -0.302993            -0.206583   \n",
       "2           -0.896455 -0.419483       -0.302993            -0.206583   \n",
       "3            1.165568  2.383889        8.638075            16.202125   \n",
       "4            1.165568 -0.419483       -0.302993            -0.206583   \n",
       "\n",
       "   Hormonal Contraceptives  Hormonal Contraceptives (years)       IUD  ...  \\\n",
       "0                -1.367694                        -0.607375 -0.360122  ...   \n",
       "1                -1.367694                        -0.607375 -0.360122  ...   \n",
       "2                -1.367694                        -0.607375 -0.360122  ...   \n",
       "3                 0.731157                         0.183850 -0.360122  ...   \n",
       "4                 0.731157                         3.348752 -0.360122  ...   \n",
       "\n",
       "   STDs:HPV  STDs: Number of diagnosis    Dx:CIN    Dx:HPV        Dx  \\\n",
       "0 -0.052235                  -0.293385 -0.104383 -0.148431 -0.172026   \n",
       "1 -0.052235                  -0.293385 -0.104383 -0.148431 -0.172026   \n",
       "2 -0.052235                  -0.293385 -0.104383 -0.148431 -0.172026   \n",
       "3 -0.052235                  -0.293385 -0.104383  6.737128 -0.172026   \n",
       "4 -0.052235                  -0.293385 -0.104383 -0.148431 -0.172026   \n",
       "\n",
       "   Hinselmann  Schiller  Citology    Biopsy  Dx:Cancer  \n",
       "0   -0.209165 -0.309517 -0.233008 -0.262949          0  \n",
       "1   -0.209165 -0.309517 -0.233008 -0.262949          0  \n",
       "2   -0.209165 -0.309517 -0.233008 -0.262949          0  \n",
       "3   -0.209165 -0.309517 -0.233008 -0.262949          1  \n",
       "4   -0.209165 -0.309517 -0.233008 -0.262949          0  \n",
       "\n",
       "[5 rows x 34 columns]"
      ]
     },
     "execution_count": 31,
     "metadata": {},
     "output_type": "execute_result"
    }
   ],
   "source": [
    "DF.head()"
   ]
  },
  {
   "cell_type": "markdown",
   "id": "f9aa41f0",
   "metadata": {},
   "source": [
    "### save the data "
   ]
  },
  {
   "cell_type": "code",
   "execution_count": 32,
   "id": "d25657da",
   "metadata": {},
   "outputs": [],
   "source": [
    "DF.to_csv(DF_EXPORT)"
   ]
  }
 ],
 "metadata": {
  "kernelspec": {
   "display_name": "Python 3 (ipykernel)",
   "language": "python",
   "name": "python3"
  },
  "language_info": {
   "codemirror_mode": {
    "name": "ipython",
    "version": 3
   },
   "file_extension": ".py",
   "mimetype": "text/x-python",
   "name": "python",
   "nbconvert_exporter": "python",
   "pygments_lexer": "ipython3",
   "version": "3.9.12"
  }
 },
 "nbformat": 4,
 "nbformat_minor": 5
}
